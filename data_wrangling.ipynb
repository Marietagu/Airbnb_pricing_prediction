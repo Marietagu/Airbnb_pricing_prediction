{
 "cells": [
  {
   "cell_type": "code",
   "execution_count": 3,
   "metadata": {
    "collapsed": true,
    "ExecuteTime": {
     "end_time": "2023-12-03T19:42:10.704463Z",
     "start_time": "2023-12-03T19:42:10.426876Z"
    }
   },
   "outputs": [
    {
     "data": {
      "text/plain": "['#        DATA TABLE CORRECTIONS AND COMMENTS',\n '#Default data requests may exceed the memory capacity of the server.  Contact the LTER information manager for assistance.',\n '#2013-5-13. Sven Bohm. 2011 treatment 2 r4  west and treatment 3 rep 3 east files had 2010 data in them. Need to get data from Jim Bronson.',\n '#',\n 'longitude,latitude,crop_flow_lb_s,datetime,duration ,distance_in,swth_wdth_in,moisture,status,pass_num,serial_number,field,dataset,product,elevation_ft',\n '#degree,degree,poundsPerSecond,,second,inch,inch,gramsPerHectograms,,number,number,,,,foot',\n '-85.372824,42.408276,3.29,2013-07-24 19:20:04+00,1,56,180,6.6,0,141,5648,F1: Lysimeter,L1: ,Wheat (Sft Rd Wtr),953.5',\n '-85.372838,42.408288,2.89,2013-07-24 19:20:03+00,1,47,180,6.6,0,141,5648,F1: Lysimeter,L1: ,Wheat (Sft Rd Wtr),953.5',\n '-85.372847,42.408296,2.89,2013-07-24 19:20:02+00,1,38,180,6.6,0,141,5648,F1: Lysimeter,L1: ,Wheat (Sft Rd Wtr),953.5',\n '-85.372855,42.408301,3.69,2013-07-24 19:20:01+00,1,18,180,6.6,0,141,5648,F1: Lysimeter,L1: ,Wheat (Sft Rd Wtr),953.5',\n '-85.372855,42.408304,3.39,2013-07-24 19:20:00+00,1,39,180,6.6,0,141,5648,F1: Lysimeter,L1: ,Wheat (Sft Rd Wtr),953.5']"
     },
     "execution_count": 3,
     "metadata": {},
     "output_type": "execute_result"
    }
   ],
   "source": [
    "import pandas as pd\n",
    "\n",
    "file_path = \"Geo-referenced Annual Crop Yields - Raw Data.csv\"\n",
    "problematic_lines = []\n",
    "\n",
    "try:\n",
    "\n",
    "    with open(file_path, 'r') as file:\n",
    "\n",
    "        for i, line in enumerate(file):\n",
    "\n",
    "            if 28 <= i <= 38:  # Reading lines around the problematic line 33\n",
    "\n",
    "                problematic_lines.append(line.strip())\n",
    "\n",
    "except Exception as e:\n",
    "\n",
    "    problematic_lines = str(e)\n",
    "\n",
    "\n",
    "problematic_lines"
   ]
  },
  {
   "cell_type": "code",
   "execution_count": 6,
   "outputs": [
    {
     "data": {
      "text/plain": "   longitude   latitude  crop_flow_lb_s                datetime  duration   \\\n0 -85.372824  42.408276            3.29  2013-07-24 19:20:04+00          1   \n1 -85.372838  42.408288            2.89  2013-07-24 19:20:03+00          1   \n2 -85.372847  42.408296            2.89  2013-07-24 19:20:02+00          1   \n3 -85.372855  42.408301            3.69  2013-07-24 19:20:01+00          1   \n4 -85.372855  42.408304            3.39  2013-07-24 19:20:00+00          1   \n\n   distance_in  swth_wdth_in  moisture  status  pass_num  serial_number  \\\n0         56.0         180.0       6.6     0.0       141           5648   \n1         47.0         180.0       6.6     0.0       141           5648   \n2         38.0         180.0       6.6     0.0       141           5648   \n3         18.0         180.0       6.6     0.0       141           5648   \n4         39.0         180.0       6.6     0.0       141           5648   \n\n           field dataset             product  elevation_ft  \n0  F1: Lysimeter    L1:   Wheat (Sft Rd Wtr)         953.5  \n1  F1: Lysimeter    L1:   Wheat (Sft Rd Wtr)         953.5  \n2  F1: Lysimeter    L1:   Wheat (Sft Rd Wtr)         953.5  \n3  F1: Lysimeter    L1:   Wheat (Sft Rd Wtr)         953.5  \n4  F1: Lysimeter    L1:   Wheat (Sft Rd Wtr)         953.5  ",
      "text/html": "<div>\n<style scoped>\n    .dataframe tbody tr th:only-of-type {\n        vertical-align: middle;\n    }\n\n    .dataframe tbody tr th {\n        vertical-align: top;\n    }\n\n    .dataframe thead th {\n        text-align: right;\n    }\n</style>\n<table border=\"1\" class=\"dataframe\">\n  <thead>\n    <tr style=\"text-align: right;\">\n      <th></th>\n      <th>longitude</th>\n      <th>latitude</th>\n      <th>crop_flow_lb_s</th>\n      <th>datetime</th>\n      <th>duration</th>\n      <th>distance_in</th>\n      <th>swth_wdth_in</th>\n      <th>moisture</th>\n      <th>status</th>\n      <th>pass_num</th>\n      <th>serial_number</th>\n      <th>field</th>\n      <th>dataset</th>\n      <th>product</th>\n      <th>elevation_ft</th>\n    </tr>\n  </thead>\n  <tbody>\n    <tr>\n      <th>0</th>\n      <td>-85.372824</td>\n      <td>42.408276</td>\n      <td>3.29</td>\n      <td>2013-07-24 19:20:04+00</td>\n      <td>1</td>\n      <td>56.0</td>\n      <td>180.0</td>\n      <td>6.6</td>\n      <td>0.0</td>\n      <td>141</td>\n      <td>5648</td>\n      <td>F1: Lysimeter</td>\n      <td>L1:</td>\n      <td>Wheat (Sft Rd Wtr)</td>\n      <td>953.5</td>\n    </tr>\n    <tr>\n      <th>1</th>\n      <td>-85.372838</td>\n      <td>42.408288</td>\n      <td>2.89</td>\n      <td>2013-07-24 19:20:03+00</td>\n      <td>1</td>\n      <td>47.0</td>\n      <td>180.0</td>\n      <td>6.6</td>\n      <td>0.0</td>\n      <td>141</td>\n      <td>5648</td>\n      <td>F1: Lysimeter</td>\n      <td>L1:</td>\n      <td>Wheat (Sft Rd Wtr)</td>\n      <td>953.5</td>\n    </tr>\n    <tr>\n      <th>2</th>\n      <td>-85.372847</td>\n      <td>42.408296</td>\n      <td>2.89</td>\n      <td>2013-07-24 19:20:02+00</td>\n      <td>1</td>\n      <td>38.0</td>\n      <td>180.0</td>\n      <td>6.6</td>\n      <td>0.0</td>\n      <td>141</td>\n      <td>5648</td>\n      <td>F1: Lysimeter</td>\n      <td>L1:</td>\n      <td>Wheat (Sft Rd Wtr)</td>\n      <td>953.5</td>\n    </tr>\n    <tr>\n      <th>3</th>\n      <td>-85.372855</td>\n      <td>42.408301</td>\n      <td>3.69</td>\n      <td>2013-07-24 19:20:01+00</td>\n      <td>1</td>\n      <td>18.0</td>\n      <td>180.0</td>\n      <td>6.6</td>\n      <td>0.0</td>\n      <td>141</td>\n      <td>5648</td>\n      <td>F1: Lysimeter</td>\n      <td>L1:</td>\n      <td>Wheat (Sft Rd Wtr)</td>\n      <td>953.5</td>\n    </tr>\n    <tr>\n      <th>4</th>\n      <td>-85.372855</td>\n      <td>42.408304</td>\n      <td>3.39</td>\n      <td>2013-07-24 19:20:00+00</td>\n      <td>1</td>\n      <td>39.0</td>\n      <td>180.0</td>\n      <td>6.6</td>\n      <td>0.0</td>\n      <td>141</td>\n      <td>5648</td>\n      <td>F1: Lysimeter</td>\n      <td>L1:</td>\n      <td>Wheat (Sft Rd Wtr)</td>\n      <td>953.5</td>\n    </tr>\n  </tbody>\n</table>\n</div>"
     },
     "execution_count": 6,
     "metadata": {},
     "output_type": "execute_result"
    }
   ],
   "source": [
    "try:\n",
    "\n",
    "    data = pd.read_csv(file_path, comment='#')\n",
    "\n",
    "except Exception as e:\n",
    "\n",
    "    data, e = None, str(e)\n",
    "\n",
    "\n",
    "\n",
    "data.head()\n"
   ],
   "metadata": {
    "collapsed": false,
    "ExecuteTime": {
     "end_time": "2023-12-03T19:46:23.994401Z",
     "start_time": "2023-12-03T19:46:22.589948Z"
    }
   }
  },
  {
   "cell_type": "code",
   "execution_count": 8,
   "outputs": [
    {
     "data": {
      "text/plain": "(767826, 15)"
     },
     "execution_count": 8,
     "metadata": {},
     "output_type": "execute_result"
    }
   ],
   "source": [
    "data.shape\n"
   ],
   "metadata": {
    "collapsed": false,
    "ExecuteTime": {
     "end_time": "2023-12-03T19:46:43.039768Z",
     "start_time": "2023-12-03T19:46:43.034510Z"
    }
   }
  },
  {
   "cell_type": "code",
   "execution_count": 9,
   "outputs": [
    {
     "name": "stdout",
     "output_type": "stream",
     "text": [
      "<class 'pandas.core.frame.DataFrame'>\n",
      "RangeIndex: 767826 entries, 0 to 767825\n",
      "Data columns (total 15 columns):\n",
      " #   Column          Non-Null Count   Dtype  \n",
      "---  ------          --------------   -----  \n",
      " 0   longitude       767826 non-null  float64\n",
      " 1   latitude        767826 non-null  float64\n",
      " 2   crop_flow_lb_s  767826 non-null  float64\n",
      " 3   datetime        767826 non-null  object \n",
      " 4   duration        767826 non-null  int64  \n",
      " 5   distance_in     767826 non-null  float64\n",
      " 6   swth_wdth_in    767826 non-null  float64\n",
      " 7   moisture        767826 non-null  float64\n",
      " 8   status          738576 non-null  float64\n",
      " 9   pass_num        767826 non-null  int64  \n",
      " 10  serial_number   767826 non-null  int64  \n",
      " 11  field           767826 non-null  object \n",
      " 12  dataset         767826 non-null  object \n",
      " 13  product         767826 non-null  object \n",
      " 14  elevation_ft    767826 non-null  float64\n",
      "dtypes: float64(8), int64(3), object(4)\n",
      "memory usage: 87.9+ MB\n"
     ]
    }
   ],
   "source": [
    "data.info()\n"
   ],
   "metadata": {
    "collapsed": false,
    "ExecuteTime": {
     "end_time": "2023-12-03T19:46:57.564378Z",
     "start_time": "2023-12-03T19:46:57.210583Z"
    }
   }
  },
  {
   "cell_type": "code",
   "execution_count": 10,
   "outputs": [],
   "source": [
    "data['datetime'] = pd.to_datetime(data['datetime'])"
   ],
   "metadata": {
    "collapsed": false,
    "ExecuteTime": {
     "end_time": "2023-12-04T02:46:53.181151Z",
     "start_time": "2023-12-04T02:46:52.921910Z"
    }
   }
  },
  {
   "cell_type": "code",
   "execution_count": 11,
   "outputs": [
    {
     "name": "stdout",
     "output_type": "stream",
     "text": [
      "<class 'pandas.core.frame.DataFrame'>\n",
      "RangeIndex: 767826 entries, 0 to 767825\n",
      "Data columns (total 15 columns):\n",
      " #   Column          Non-Null Count   Dtype              \n",
      "---  ------          --------------   -----              \n",
      " 0   longitude       767826 non-null  float64            \n",
      " 1   latitude        767826 non-null  float64            \n",
      " 2   crop_flow_lb_s  767826 non-null  float64            \n",
      " 3   datetime        767826 non-null  datetime64[ns, UTC]\n",
      " 4   duration        767826 non-null  int64              \n",
      " 5   distance_in     767826 non-null  float64            \n",
      " 6   swth_wdth_in    767826 non-null  float64            \n",
      " 7   moisture        767826 non-null  float64            \n",
      " 8   status          738576 non-null  float64            \n",
      " 9   pass_num        767826 non-null  int64              \n",
      " 10  serial_number   767826 non-null  int64              \n",
      " 11  field           767826 non-null  object             \n",
      " 12  dataset         767826 non-null  object             \n",
      " 13  product         767826 non-null  object             \n",
      " 14  elevation_ft    767826 non-null  float64            \n",
      "dtypes: datetime64[ns, UTC](1), float64(8), int64(3), object(3)\n",
      "memory usage: 87.9+ MB\n"
     ]
    }
   ],
   "source": [
    "data.info()\n"
   ],
   "metadata": {
    "collapsed": false,
    "ExecuteTime": {
     "end_time": "2023-12-04T02:47:32.390505Z",
     "start_time": "2023-12-04T02:47:32.136194Z"
    }
   }
  },
  {
   "cell_type": "code",
   "execution_count": 12,
   "outputs": [
    {
     "name": "stdout",
     "output_type": "stream",
     "text": [
      "0         2013\n",
      "1         2013\n",
      "2         2013\n",
      "3         2013\n",
      "4         2013\n",
      "          ... \n",
      "767821    1996\n",
      "767822    1996\n",
      "767823    1996\n",
      "767824    1996\n",
      "767825    1996\n",
      "Name: year, Length: 767826, dtype: object\n"
     ]
    }
   ],
   "source": [
    "data['year'] = data['datetime'].dt.strftime('%Y')\n",
    "print(data['year'])"
   ],
   "metadata": {
    "collapsed": false,
    "ExecuteTime": {
     "end_time": "2023-12-04T02:51:07.883553Z",
     "start_time": "2023-12-04T02:51:04.743876Z"
    }
   }
  },
  {
   "cell_type": "code",
   "execution_count": null,
   "outputs": [],
   "source": [],
   "metadata": {
    "collapsed": false
   }
  }
 ],
 "metadata": {
  "kernelspec": {
   "display_name": "Python 3",
   "language": "python",
   "name": "python3"
  },
  "language_info": {
   "codemirror_mode": {
    "name": "ipython",
    "version": 2
   },
   "file_extension": ".py",
   "mimetype": "text/x-python",
   "name": "python",
   "nbconvert_exporter": "python",
   "pygments_lexer": "ipython2",
   "version": "2.7.6"
  }
 },
 "nbformat": 4,
 "nbformat_minor": 0
}
